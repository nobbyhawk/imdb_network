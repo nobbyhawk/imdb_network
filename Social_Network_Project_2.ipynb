{
 "cells": [
  {
   "cell_type": "code",
   "execution_count": 1,
   "metadata": {},
   "outputs": [],
   "source": [
    "#1. Show how actors interact with one another and the connections between them. \n",
    "    # Actors are nodes and number of times they act with each other are edges\n",
    "#2. See the interactions between IMDB / Critic reviews and the people in the movies.\n",
    "    # Actors are nodes and ratings are edges \n",
    "#3. See which actors / movies bridge groups of movies.\n",
    "    # Movies are nodes and number of common actors are edges!"
   ]
  },
  {
   "cell_type": "code",
   "execution_count": 2,
   "metadata": {},
   "outputs": [],
   "source": [
    "# Import the libraries\n",
    "import pandas as pd\n",
    "import numpy as np\n",
    "import matplotlib.pyplot as plt"
   ]
  },
  {
   "cell_type": "code",
   "execution_count": 3,
   "metadata": {},
   "outputs": [],
   "source": [
    "# Read the csv file\n",
    "movies = pd.read_csv(\"C:/Users/Andy Dotter/Documents/05_Spring_2019/Spring_2/Social Network Analytics/movie_metadata.csv\")"
   ]
  },
  {
   "cell_type": "code",
   "execution_count": 4,
   "metadata": {},
   "outputs": [
    {
     "data": {
      "text/plain": [
       "Index(['color', 'director_name', 'num_critic_for_reviews', 'duration',\n",
       "       'director_facebook_likes', 'actor_3_facebook_likes', 'actor_2_name',\n",
       "       'actor_1_facebook_likes', 'gross', 'genres', 'actor_1_name',\n",
       "       'movie_title', 'num_voted_users', 'cast_total_facebook_likes',\n",
       "       'actor_3_name', 'facenumber_in_poster', 'plot_keywords',\n",
       "       'movie_imdb_link', 'num_user_for_reviews', 'language', 'country',\n",
       "       'content_rating', 'budget', 'title_year', 'actor_2_facebook_likes',\n",
       "       'imdb_score', 'aspect_ratio', 'movie_facebook_likes'],\n",
       "      dtype='object')"
      ]
     },
     "execution_count": 4,
     "metadata": {},
     "output_type": "execute_result"
    }
   ],
   "source": [
    "# Print the column names\n",
    "movies.columns"
   ]
  },
  {
   "cell_type": "code",
   "execution_count": 5,
   "metadata": {},
   "outputs": [
    {
     "data": {
      "text/plain": [
       "(5043, 28)"
      ]
     },
     "execution_count": 5,
     "metadata": {},
     "output_type": "execute_result"
    }
   ],
   "source": [
    "# How many movies do we have?\n",
    "movies.shape"
   ]
  },
  {
   "cell_type": "code",
   "execution_count": 6,
   "metadata": {},
   "outputs": [
    {
     "data": {
      "text/html": [
       "<div>\n",
       "<style scoped>\n",
       "    .dataframe tbody tr th:only-of-type {\n",
       "        vertical-align: middle;\n",
       "    }\n",
       "\n",
       "    .dataframe tbody tr th {\n",
       "        vertical-align: top;\n",
       "    }\n",
       "\n",
       "    .dataframe thead th {\n",
       "        text-align: right;\n",
       "    }\n",
       "</style>\n",
       "<table border=\"1\" class=\"dataframe\">\n",
       "  <thead>\n",
       "    <tr style=\"text-align: right;\">\n",
       "      <th></th>\n",
       "      <th>movie_title</th>\n",
       "      <th>actor_1_name</th>\n",
       "      <th>actor_2_name</th>\n",
       "      <th>actor_3_name</th>\n",
       "      <th>imdb_score</th>\n",
       "      <th>gross</th>\n",
       "    </tr>\n",
       "  </thead>\n",
       "  <tbody>\n",
       "    <tr>\n",
       "      <th>0</th>\n",
       "      <td>Avatar</td>\n",
       "      <td>CCH Pounder</td>\n",
       "      <td>Joel David Moore</td>\n",
       "      <td>Wes Studi</td>\n",
       "      <td>7.9</td>\n",
       "      <td>760505847.0</td>\n",
       "    </tr>\n",
       "    <tr>\n",
       "      <th>1</th>\n",
       "      <td>Pirates of the Caribbean: At World's End</td>\n",
       "      <td>Johnny Depp</td>\n",
       "      <td>Orlando Bloom</td>\n",
       "      <td>Jack Davenport</td>\n",
       "      <td>7.1</td>\n",
       "      <td>309404152.0</td>\n",
       "    </tr>\n",
       "    <tr>\n",
       "      <th>2</th>\n",
       "      <td>Spectre</td>\n",
       "      <td>Christoph Waltz</td>\n",
       "      <td>Rory Kinnear</td>\n",
       "      <td>Stephanie Sigman</td>\n",
       "      <td>6.8</td>\n",
       "      <td>200074175.0</td>\n",
       "    </tr>\n",
       "    <tr>\n",
       "      <th>3</th>\n",
       "      <td>The Dark Knight Rises</td>\n",
       "      <td>Tom Hardy</td>\n",
       "      <td>Christian Bale</td>\n",
       "      <td>Joseph Gordon-Levitt</td>\n",
       "      <td>8.5</td>\n",
       "      <td>448130642.0</td>\n",
       "    </tr>\n",
       "    <tr>\n",
       "      <th>4</th>\n",
       "      <td>Star Wars: Episode VII - The Force Awakens    ...</td>\n",
       "      <td>Doug Walker</td>\n",
       "      <td>Rob Walker</td>\n",
       "      <td>NaN</td>\n",
       "      <td>7.1</td>\n",
       "      <td>NaN</td>\n",
       "    </tr>\n",
       "  </tbody>\n",
       "</table>\n",
       "</div>"
      ],
      "text/plain": [
       "                                         movie_title     actor_1_name  \\\n",
       "0                                            Avatar       CCH Pounder   \n",
       "1          Pirates of the Caribbean: At World's End       Johnny Depp   \n",
       "2                                           Spectre   Christoph Waltz   \n",
       "3                             The Dark Knight Rises         Tom Hardy   \n",
       "4  Star Wars: Episode VII - The Force Awakens    ...      Doug Walker   \n",
       "\n",
       "       actor_2_name          actor_3_name  imdb_score        gross  \n",
       "0  Joel David Moore             Wes Studi         7.9  760505847.0  \n",
       "1     Orlando Bloom        Jack Davenport         7.1  309404152.0  \n",
       "2      Rory Kinnear      Stephanie Sigman         6.8  200074175.0  \n",
       "3    Christian Bale  Joseph Gordon-Levitt         8.5  448130642.0  \n",
       "4        Rob Walker                   NaN         7.1          NaN  "
      ]
     },
     "execution_count": 6,
     "metadata": {},
     "output_type": "execute_result"
    }
   ],
   "source": [
    "# Preview of dataset\n",
    "movies.head()\n",
    "\n",
    "# Drop duplicated columns\n",
    "movies = movies.drop_duplicates()\n",
    "\n",
    "# Drop columns that we do not need\n",
    "movies = movies.loc[:,['movie_title', 'actor_1_name', 'actor_2_name', 'actor_3_name', 'imdb_score', 'gross']]\n",
    "\n",
    "# Preview the new dataframe\n",
    "movies.head()"
   ]
  },
  {
   "cell_type": "code",
   "execution_count": 7,
   "metadata": {},
   "outputs": [
    {
     "data": {
      "text/plain": [
       "count    4998.000000\n",
       "mean        6.441056\n",
       "std         1.124107\n",
       "min         1.600000\n",
       "25%         5.800000\n",
       "50%         6.600000\n",
       "75%         7.200000\n",
       "max         9.500000\n",
       "Name: imdb_score, dtype: float64"
      ]
     },
     "execution_count": 7,
     "metadata": {},
     "output_type": "execute_result"
    }
   ],
   "source": [
    "# Summary statistics of the score:\n",
    "movies['imdb_score'].describe()"
   ]
  },
  {
   "cell_type": "code",
   "execution_count": 8,
   "metadata": {},
   "outputs": [
    {
     "data": {
      "image/png": "[encoded data removed]",
      "text/plain": [
       "<Figure size 432x288 with 1 Axes>"
      ]
     },
     "metadata": {},
     "output_type": "display_data"
    }
   ],
   "source": [
    "plt.hist(movies['imdb_score'], 'auto', density = 100, alpha=0.75)\n",
    "plt.show()"
   ]
  },
  {
   "cell_type": "code",
   "execution_count": 9,
   "metadata": {},
   "outputs": [],
   "source": [
    "# Sort the dataset by score:\n",
    "movies_score = movies.sort_values(by = \"imdb_score\", ascending = False)"
   ]
  },
  {
   "cell_type": "code",
   "execution_count": 11,
   "metadata": {},
   "outputs": [],
   "source": [
    "# Give all movies that have a score greater than 7.5 (This should be about 25% of data)\n",
    "high_score = movies[(movies['imdb_score'] >= 7.5)]"
   ]
  },
  {
   "cell_type": "code",
   "execution_count": 12,
   "metadata": {},
   "outputs": [],
   "source": [
    "# Now create a dataframe for the top 250 movies\n",
    "Top_250 = movies_score.head(250)"
   ]
  },
  {
   "cell_type": "code",
   "execution_count": 13,
   "metadata": {},
   "outputs": [],
   "source": [
    "def gephi(movies):\n",
    "    movies = movies.loc[:,['actor_1_name', 'actor_2_name', 'actor_3_name', 'imdb_score']]\n",
    "    movies = movies.replace(' ', '_', regex=True) # replace whitespace by underscore, since Gephi doesn't recognize spaces\n",
    "    movies = movies.reset_index(drop=True) # reset indices\n",
    "    return(movies)"
   ]
  },
  {
   "cell_type": "code",
   "execution_count": 14,
   "metadata": {},
   "outputs": [],
   "source": [
    "actors = gephi(movies)\n",
    "high_score = gephi(high_score)\n",
    "Top_250 = gephi(Top_250)"
   ]
  },
  {
   "cell_type": "code",
   "execution_count": 15,
   "metadata": {},
   "outputs": [],
   "source": [
    "#### This should be the data to answer Question 1\n",
    "# Print out the actor CSV. This is every movie\n",
    "actors.to_csv(\"actors.csv\", sep = \";\", index = False, header = False)\n",
    "# Print out the high scores i.e. top 25%\n",
    "high_score.to_csv(\"high_scores.csv\", sep = \";\", index = False, header = False)\n",
    "# Print out the top 250 movies.\n",
    "Top_250.to_csv(\"Top_250.csv\", sep = \";\", index = False, header = False)"
   ]
  },
  {
   "cell_type": "code",
   "execution_count": 16,
   "metadata": {},
   "outputs": [
    {
     "data": {
      "text/plain": [
       "count    4.124000e+03\n",
       "mean     4.832565e+07\n",
       "std      6.796483e+07\n",
       "min      1.620000e+02\n",
       "25%      5.304835e+06\n",
       "50%      2.544575e+07\n",
       "75%      6.231942e+07\n",
       "max      7.605058e+08\n",
       "Name: gross, dtype: float64"
      ]
     },
     "execution_count": 16,
     "metadata": {},
     "output_type": "execute_result"
    }
   ],
   "source": [
    "## Now lets Look at Dollar Amounts!#######\n",
    "movies['gross'].describe()"
   ]
  },
  {
   "cell_type": "code",
   "execution_count": 17,
   "metadata": {},
   "outputs": [],
   "source": [
    "# Sort the dataset by gross amount:\n",
    "movies_dollar = movies.sort_values(by = \"gross\", ascending = False)"
   ]
  },
  {
   "cell_type": "code",
   "execution_count": 18,
   "metadata": {},
   "outputs": [],
   "source": [
    "# Get top 25% of movies by gross dollar amount\n",
    "movies_dollar_gross25pct = movies_dollar[movies_dollar['gross'] >= 62319420]"
   ]
  },
  {
   "cell_type": "code",
   "execution_count": 19,
   "metadata": {},
   "outputs": [],
   "source": [
    "# Get to 250 movies by dollar amount\n",
    "movies_dollar_top250 = movies_dollar.head(250)"
   ]
  },
  {
   "cell_type": "code",
   "execution_count": 20,
   "metadata": {},
   "outputs": [],
   "source": [
    "def gephi_gross(movies):\n",
    "    movies = movies.loc[:,['actor_1_name', 'actor_2_name', 'actor_3_name', 'gross']]\n",
    "    movies = movies.replace(' ', '_', regex=True) # replace whitespace by underscore, since Gephi doesn't recognize spaces\n",
    "    movies = movies.reset_index(drop=True) # reset indices\n",
    "    return(movies)"
   ]
  },
  {
   "cell_type": "code",
   "execution_count": 21,
   "metadata": {},
   "outputs": [],
   "source": [
    "actors_money = gephi_gross(movies_dollar)\n",
    "movies_dollar_gross25pct_money = gephi_gross(movies_dollar_gross25pct)\n",
    "movies_dollar_top250_money = gephi_gross(movies_dollar_top250)"
   ]
  },
  {
   "cell_type": "code",
   "execution_count": 22,
   "metadata": {},
   "outputs": [],
   "source": [
    "#### This does not answer any questions but could if we want it to.\n",
    "# Print out the actor CSV. This is every movie\n",
    "actors_money.to_csv(\"actors_money.csv\", sep = \";\", index = False, header = False)\n",
    "# Print out the top 25% by gross\n",
    "movies_dollar_gross25pct_money.to_csv(\"gross_top25pct_money.csv\",sep = \";\", index = False, header = False)\n",
    "# Print out the top 250 by gross\n",
    "movies_dollar_top250_money.to_csv(\"gross_top250_money.csv\",sep = \";\", index = False, header = False)"
   ]
  },
  {
   "cell_type": "code",
   "execution_count": null,
   "metadata": {},
   "outputs": [],
   "source": []
  }
 ],
 "metadata": {
  "kernelspec": {
   "display_name": "Python 3",
   "language": "python",
   "name": "python3"
  },
  "language_info": {
   "codemirror_mode": {
    "name": "ipython",
    "version": 3
   },
   "file_extension": ".py",
   "mimetype": "text/x-python",
   "name": "python",
   "nbconvert_exporter": "python",
   "pygments_lexer": "ipython3",
   "version": "3.6.5"
  }
 },
 "nbformat": 4,
 "nbformat_minor": 2
}
