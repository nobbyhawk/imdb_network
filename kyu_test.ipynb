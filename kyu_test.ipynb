{
 "cells": [
  {
   "cell_type": "code",
   "execution_count": 3,
   "metadata": {},
   "outputs": [
    {
     "name": "stdout",
     "output_type": "stream",
     "text": [
      "Keanu Reeves\n",
      "Laurence Fishburne\n",
      "Carrie-Anne Moss\n",
      "Hugo Weaving\n",
      "Gloria Foster\n",
      "Joe Pantoliano\n",
      "Marcus Chong\n",
      "Julian Arahanga\n",
      "Matt Doran\n",
      "Belinda McClory\n",
      "Anthony Ray Parker\n",
      "Paul Goddard\n",
      "Robert Taylor\n",
      "David Aston\n",
      "Marc Aden Gray\n",
      "Ada Nicodemou\n",
      "Deni Gordon\n",
      "Rowan Witt\n",
      "Eleanor Witt\n",
      "Tamara Brown\n",
      "Janaya Pender\n",
      "Adryn White\n",
      "Natalie Tjen\n",
      "Bill Young\n",
      "David O'Connor\n",
      "Jeremy Ball\n",
      "Fiona Johnson\n",
      "Harry Lawrence\n",
      "Steve Dodd\n",
      "Luke Quinton\n",
      "Lawrence Woodward\n",
      "Michael Butcher\n",
      "Bernard Ledger\n",
      "Robert Simper\n",
      "Chris Pattinson\n",
      "Nigel Harbach\n",
      "Mike Duncan\n",
      "Nash Edgerton\n",
      "Rana Morrison\n",
      "Number of movies: 993\n",
      "Number of actors: 39\n"
     ]
    }
   ],
   "source": [
    "from imdb import IMDb\n",
    "\n",
    "actors = list()\n",
    "movies = list()\n",
    "\n",
    "\n",
    "ia = IMDb()\n",
    "the_matrix = ia.get_movie('0133093')\n",
    "\n",
    "for person in the_matrix[\"cast\"]:\n",
    "    actors.append(person)\n",
    "\n",
    "# Now find a person's movies\n",
    "#for actor in actors[0:2]:\n",
    "#print(actor['name'])\n",
    "#for movie in ia.get_person(actor.personID)['filmography'][0]['actor']:\n",
    "# movies.append(movie.movieID)\n",
    "\n",
    "def get_movies_from_actor(actor):\n",
    "    all_movies = list()\n",
    "\n",
    "    person = ia.get_person(actor.personID)['filmography'][0]\n",
    "    if 'actor' not in person:\n",
    "        return\n",
    "\n",
    "    for movie in person['actor']:\n",
    "        all_movies.append(movie)\n",
    "\n",
    "    return all_movies\n",
    "\n",
    "for actor in actors:\n",
    "    print(actor)\n",
    "    new_movies = get_movies_from_actor(actor)\n",
    "    if new_movies is not None:\n",
    "        movies += new_movies\n",
    "\n",
    "\n",
    "print(\"Number of movies:\", len(movies))\n",
    "print(\"Number of actors:\", len(actors))"
   ]
  },
  {
   "cell_type": "code",
   "execution_count": null,
   "metadata": {},
   "outputs": [],
   "source": []
  }
 ],
 "metadata": {
  "kernelspec": {
   "display_name": "Python 3",
   "language": "python",
   "name": "python3"
  },
  "language_info": {
   "codemirror_mode": {
    "name": "ipython",
    "version": 3
   },
   "file_extension": ".py",
   "mimetype": "text/x-python",
   "name": "python",
   "nbconvert_exporter": "python",
   "pygments_lexer": "ipython3",
   "version": "3.6.5"
  }
 },
 "nbformat": 4,
 "nbformat_minor": 2
}
